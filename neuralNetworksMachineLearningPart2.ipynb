{
  "cells": [
    {
      "cell_type": "markdown",
      "metadata": {
        "id": "lpAMste9vomb"
      },
      "source": [
        "# Step 2"
      ]
    },
    {
      "cell_type": "markdown",
      "metadata": {
        "id": "_yF2hIgwvomd"
      },
      "source": [
        "In step 2 you will be using **Pytorch** to import MNIST, train a neural network on MNIST, find examples that \"fool\" that trained network, and, if you're a 6505 student, propose a way to deal with these examples."
      ]
    },
    {
      "cell_type": "markdown",
      "metadata": {
        "id": "u6IEQxgyvome"
      },
      "source": [
        "## Question 1"
      ]
    },
    {
      "cell_type": "markdown",
      "metadata": {
        "id": "_TMjOVoYvome"
      },
      "source": [
        "Start by importing both the training and testing MNIST datasets using DataLoaders and the torchvision provided datasets. You can set both the training and testing batch size to be whatever you feel is best."
      ]
    },
    {
      "cell_type": "markdown",
      "source": [
        "IMPORTS"
      ],
      "metadata": {
        "id": "5JvLHdeW4pB-"
      }
    },
    {
      "cell_type": "code",
      "source": [
        "import torch\n",
        "import torchvision as tv\n",
        "import torch.utils.data as dataloader\n",
        "import torch.nn as nn\n",
        "import torch.nn.functional as F\n",
        "import torch.optim as optim\n",
        "import matplotlib.pyplot as plt\n",
        "import numpy as np"
      ],
      "metadata": {
        "id": "uNx9bVGVvv2z"
      },
      "execution_count": 186,
      "outputs": []
    },
    {
      "cell_type": "markdown",
      "source": [
        "VARIABLE INITIALIZATION"
      ],
      "metadata": {
        "id": "9DQCqNB34vFL"
      }
    },
    {
      "cell_type": "code",
      "source": [
        "batch_size_train = 64\n",
        "batch_size_test = 64\n",
        "alpha = 0.01\n",
        "momentum = 0.5\n",
        "epochs = 10\n",
        "loss_list = []\n",
        "test_loss_list = []\n",
        "train_x_axis = []\n",
        "test_x_axis = []"
      ],
      "metadata": {
        "id": "t6r2x7XR4zFu"
      },
      "execution_count": 187,
      "outputs": []
    },
    {
      "cell_type": "markdown",
      "source": [
        "MNIST TRAINING DATASET IMPORT"
      ],
      "metadata": {
        "id": "DFoJp-__61Be"
      }
    },
    {
      "cell_type": "code",
      "source": [
        "MNIST_train_dataset = tv.datasets.MNIST('/files/', \n",
        "                                        train=True, \n",
        "                                        download=True, \n",
        "                                        transform=tv.transforms.Compose([tv.transforms.ToTensor()]))"
      ],
      "metadata": {
        "id": "B8Ptco1pw0Vh"
      },
      "execution_count": 188,
      "outputs": []
    },
    {
      "cell_type": "code",
      "source": [
        "print(f\"Number of Datapoints of Train Dataset: {len(MNIST_train_dataset)}\")"
      ],
      "metadata": {
        "colab": {
          "base_uri": "https://localhost:8080/"
        },
        "id": "vTtiaTMhxMbT",
        "outputId": "03fc3be3-d8d5-4534-a5d6-ec91f876849c"
      },
      "execution_count": 189,
      "outputs": [
        {
          "output_type": "stream",
          "name": "stdout",
          "text": [
            "Number of Datapoints of Train Dataset: 60000\n"
          ]
        }
      ]
    },
    {
      "cell_type": "markdown",
      "source": [
        "SPLIT THE TRAINING DATASET"
      ],
      "metadata": {
        "id": "63wqt4H6PR1V"
      }
    },
    {
      "cell_type": "code",
      "source": [
        "MNIST_train_dataset_1, MNIST_train_dataset_2 = dataloader.random_split(MNIST_train_dataset, [50000, 10000])"
      ],
      "metadata": {
        "id": "hYD275ZOLCpv"
      },
      "execution_count": 190,
      "outputs": []
    },
    {
      "cell_type": "code",
      "source": [
        "print(f\"Number of Datapoints of Train Dataset 1: {len(MNIST_train_dataset_1)}\")\n",
        "print(f\"Number of Datapoints of Train Dataset 2: {len(MNIST_train_dataset_2)}\")"
      ],
      "metadata": {
        "colab": {
          "base_uri": "https://localhost:8080/"
        },
        "id": "rTYdl-JlLOBl",
        "outputId": "a4c770ab-c078-468d-b130-aad6031b83fb"
      },
      "execution_count": 191,
      "outputs": [
        {
          "output_type": "stream",
          "name": "stdout",
          "text": [
            "Number of Datapoints of Train Dataset 1: 50000\n",
            "Number of Datapoints of Train Dataset 2: 10000\n"
          ]
        }
      ]
    },
    {
      "cell_type": "code",
      "source": [
        "MNIST_train_dataloader_1 = dataloader.DataLoader(MNIST_train_dataset_1, \n",
        "                      batch_size=batch_size_train, \n",
        "                      shuffle=True)\n",
        "MNIST_train_dataloader_2 = dataloader.DataLoader(MNIST_train_dataset_2, \n",
        "                      batch_size=batch_size_train, \n",
        "                      shuffle=True)"
      ],
      "metadata": {
        "id": "7WTNFslcLmrX"
      },
      "execution_count": 192,
      "outputs": []
    },
    {
      "cell_type": "code",
      "source": [
        "print(f\"Batch Size of training dataset 1: {MNIST_train_dataloader_1.batch_size}\")\n",
        "print(f\"Data Size of training dataset 2: {len(MNIST_train_dataloader_2.dataset)}\")"
      ],
      "metadata": {
        "colab": {
          "base_uri": "https://localhost:8080/"
        },
        "id": "LD1zef0TLwPo",
        "outputId": "b908e407-25a2-4887-ce01-12a1ef18a482"
      },
      "execution_count": 193,
      "outputs": [
        {
          "output_type": "stream",
          "name": "stdout",
          "text": [
            "Batch Size of training dataset 1: 64\n",
            "Data Size of training dataset 2: 10000\n"
          ]
        }
      ]
    },
    {
      "cell_type": "markdown",
      "source": [
        "MNIST TESTING DATASET IMPORT"
      ],
      "metadata": {
        "id": "pePxmXQM7Auy"
      }
    },
    {
      "cell_type": "code",
      "source": [
        "MNIST_test_dataset = tv.datasets.MNIST('/files/', \n",
        "                                      train=False, \n",
        "                                      download=True, \n",
        "                                      transform=tv.transforms.Compose([tv.transforms.ToTensor()]))"
      ],
      "metadata": {
        "id": "i7hIIxugxHaE"
      },
      "execution_count": 194,
      "outputs": []
    },
    {
      "cell_type": "code",
      "source": [
        "print(f\"Number of Datapoints of Test Dataset: {len(MNIST_test_dataset)}\")"
      ],
      "metadata": {
        "colab": {
          "base_uri": "https://localhost:8080/"
        },
        "id": "xpyYjsS1xac8",
        "outputId": "f900e2d3-82d0-4664-b876-6f8981425b9e"
      },
      "execution_count": 195,
      "outputs": [
        {
          "output_type": "stream",
          "name": "stdout",
          "text": [
            "Number of Datapoints of Test Dataset: 10000\n"
          ]
        }
      ]
    },
    {
      "cell_type": "code",
      "source": [
        "MNIST_test_dataloader = dataloader.DataLoader(MNIST_test_dataset, \n",
        "                      batch_size=batch_size_test, \n",
        "                      shuffle=True)"
      ],
      "metadata": {
        "id": "izHgT7ApI4rk"
      },
      "execution_count": 196,
      "outputs": []
    },
    {
      "cell_type": "code",
      "source": [
        "print(f\"Batch Size of testing dataset: {MNIST_test_dataloader.batch_size}\")"
      ],
      "metadata": {
        "colab": {
          "base_uri": "https://localhost:8080/"
        },
        "id": "FpipzDvzMFdF",
        "outputId": "c69a6136-6cf3-4594-8ba6-9b1d7c369dad"
      },
      "execution_count": 197,
      "outputs": [
        {
          "output_type": "stream",
          "name": "stdout",
          "text": [
            "Batch Size of testing dataset: 64\n"
          ]
        }
      ]
    },
    {
      "cell_type": "markdown",
      "metadata": {
        "id": "wIlduYIdvomf"
      },
      "source": [
        "## Question 2"
      ]
    },
    {
      "cell_type": "markdown",
      "metadata": {
        "id": "qPbfdKFBvomf"
      },
      "source": [
        "Define a network with the following architecture:\n",
        "\n",
        "Conv2d (input channels=1, output channels = 15,kernel size = 5)\n",
        "$\\rightarrow$\n",
        "MaxPool (kernel size = 2)\n",
        "$\\rightarrow$\n",
        "ReLU\n",
        "$\\rightarrow$\n",
        "Conv2d (input channels=15, output channels = 30,kernel size = 5)\n",
        "$\\rightarrow$\n",
        "Dropout2d (p = 0.5)\n",
        "$\\rightarrow$\n",
        "MaxPool (kernel size = 2)\n",
        "$\\rightarrow$\n",
        "ReLU\n",
        "$\\rightarrow$\n",
        "Linear(input dimension = 480, hidden units = 64)\n",
        "$\\rightarrow$\n",
        "ReLU\n",
        "$\\rightarrow$\n",
        "Dropout (p=0.5)\n",
        "$\\rightarrow$\n",
        "Linear(input dimension = 64, hidden units = 10)\n",
        "$\\rightarrow$\n",
        "LogSoftMax"
      ]
    },
    {
      "cell_type": "markdown",
      "source": [
        "NEURAL NETWORK"
      ],
      "metadata": {
        "id": "zaPGYS-59G9B"
      }
    },
    {
      "cell_type": "code",
      "source": [
        "class NeuralNetwork(nn.Module):\n",
        "    def __init__(self):\n",
        "        super(NeuralNetwork, self).__init__()\n",
        "        self.layer1 = nn.Conv2d(1, 15, kernel_size=5)\n",
        "        self.layer2 = nn.Conv2d(15, 30, kernel_size=5)\n",
        "        self.dropoutLayer = nn.Dropout2d(p=0.5)\n",
        "        self.Z1 = nn.Linear(480, 64)\n",
        "        self.Z2 = nn.Linear(64, 10)\n",
        "\n",
        "    def forward(self, x):\n",
        "        x = F.relu(F.max_pool2d(self.layer1(x), 2))\n",
        "        x = F.relu(F.max_pool2d(self.dropoutLayer(self.layer2(x)), 2))\n",
        "        x = x.view(-1, 480)\n",
        "        x = F.relu(self.Z1(x))\n",
        "        x = F.dropout(x, p=0.5, training=self.training)\n",
        "        x = self.Z2(x)\n",
        "        return F.log_softmax(x, dim=1)"
      ],
      "metadata": {
        "id": "egh6E-AqJXME"
      },
      "execution_count": 198,
      "outputs": []
    },
    {
      "cell_type": "markdown",
      "metadata": {
        "id": "Czsdkltcvomf"
      },
      "source": [
        "## Question 3"
      ]
    },
    {
      "cell_type": "markdown",
      "metadata": {
        "id": "kGoD8p6Vvomf"
      },
      "source": [
        "Train the network you defined in the previous question on MNIST, using the optimizer and the number of training epochs you deem appropriate. Use a cross-entropy loss. Each epoch test your model on the testing dataset and print the value of the accuracy that you achieve. Produce a plot of the loss against the number of epochs.\n",
        "\n",
        "**Note**: Do not be overly worried about the accuracy that you achieve with your model. It should be upwards of 95% at the very least, but you won't get bonus marks for training a model that has 99.x% accuracy."
      ]
    },
    {
      "cell_type": "markdown",
      "source": [
        "CALL NEURAL NETWORK"
      ],
      "metadata": {
        "id": "OxpzGlxf9L4q"
      }
    },
    {
      "cell_type": "code",
      "source": [
        "neuralNetwork = NeuralNetwork()"
      ],
      "metadata": {
        "id": "BoTWbKBd7gRA"
      },
      "execution_count": 199,
      "outputs": []
    },
    {
      "cell_type": "markdown",
      "source": [
        "ADD OPTIMIZER"
      ],
      "metadata": {
        "id": "Ob0EdxxO9POn"
      }
    },
    {
      "cell_type": "code",
      "source": [
        "optimizer = optim.SGD(neuralNetwork.parameters(), lr=alpha, momentum=momentum)"
      ],
      "metadata": {
        "id": "yZMc-aaP7WYZ"
      },
      "execution_count": 200,
      "outputs": []
    },
    {
      "cell_type": "markdown",
      "source": [
        "TRAIN THE NEURAL NETWORK"
      ],
      "metadata": {
        "id": "ZqCfJ_Re9ZRE"
      }
    },
    {
      "cell_type": "code",
      "source": [
        "# For Plotting Graph\n",
        "test_x_axis = [i*len(MNIST_train_dataloader_1.dataset) for i in range(1, epochs + 1)]"
      ],
      "metadata": {
        "id": "3yP4lEWC-WAD"
      },
      "execution_count": 201,
      "outputs": []
    },
    {
      "cell_type": "code",
      "source": [
        "def train(epoch):\n",
        "  neuralNetwork.train()\n",
        "\n",
        "  for i, (data, target) in enumerate(MNIST_train_dataloader_1):\n",
        "    optimizer.zero_grad()\n",
        "    neuralNetworkOutput = neuralNetwork(data)\n",
        "\n",
        "    # Calculate Cross-Entropy Loss\n",
        "    crossEntropyLoss = F.nll_loss(neuralNetworkOutput, target)\n",
        "    crossEntropyLoss.backward()\n",
        "\n",
        "    optimizer.step()\n",
        "\n",
        "    if i % 100 == 0:\n",
        "      print(f\"(Training)Epoch: {epoch} Iteration: {i} Loss: {crossEntropyLoss.item()}\")\n",
        "      \n",
        "    # For Plotting Graph\n",
        "    loss_list.append(crossEntropyLoss.item())\n",
        "    \n",
        "    train_x_axis.append(\n",
        "      (i*64) + ((epoch-1)*len(MNIST_train_dataloader_1.dataset)))     "
      ],
      "metadata": {
        "id": "gjFqjbznQz74"
      },
      "execution_count": 202,
      "outputs": []
    },
    {
      "cell_type": "markdown",
      "source": [
        "TEST THE NEURAL NETWORK"
      ],
      "metadata": {
        "id": "-qGp-gUtAIZO"
      }
    },
    {
      "cell_type": "code",
      "source": [
        "def test(epoch):\n",
        "  average_loss = 0\n",
        "  get_accuracy = 0\n",
        "\n",
        "  neuralNetwork.eval()\n",
        "\n",
        "  with torch.no_grad():\n",
        "\n",
        "    for data, target in MNIST_test_dataloader:\n",
        "      \n",
        "      neuralNetworkOutput = neuralNetwork(data)\n",
        "\n",
        "      average_loss += F.nll_loss(neuralNetworkOutput, target).item()\n",
        "\n",
        "      # Calculate Accuracy\n",
        "      predictedValue = neuralNetworkOutput.data.max(1, keepdim=True)[1]\n",
        "      get_accuracy += predictedValue.eq(target.data.view_as(predictedValue)).sum()\n",
        "\n",
        "  # Calculate Final Accuracy\n",
        "  test_accuracy = 100. * get_accuracy / len(MNIST_test_dataloader.dataset)\n",
        "\n",
        "  print(f\"(Testing) Epoch: {epoch} ACCURACY: {test_accuracy}\")"
      ],
      "metadata": {
        "id": "KAyRJfrC8er9"
      },
      "execution_count": 203,
      "outputs": []
    },
    {
      "cell_type": "code",
      "source": [
        "for epoch in range(1, epochs + 1):\n",
        "  train(epoch)\n",
        "  print('-----------------------------------------------------------')\n",
        "  test(epoch)\n",
        "  print('-----------------------------------------------------------')"
      ],
      "metadata": {
        "colab": {
          "base_uri": "https://localhost:8080/"
        },
        "id": "-3rueC1MTwrD",
        "outputId": "52cfb0f9-4cee-4977-e90b-06761aff6190"
      },
      "execution_count": 204,
      "outputs": [
        {
          "output_type": "stream",
          "name": "stdout",
          "text": [
            "(Training)Epoch: 1 Iteration: 0 Loss: 2.3116652965545654\n",
            "(Training)Epoch: 1 Iteration: 100 Loss: 2.2783238887786865\n",
            "(Training)Epoch: 1 Iteration: 200 Loss: 2.2492175102233887\n",
            "(Training)Epoch: 1 Iteration: 300 Loss: 1.690593957901001\n",
            "(Training)Epoch: 1 Iteration: 400 Loss: 1.2240930795669556\n",
            "(Training)Epoch: 1 Iteration: 500 Loss: 0.6187265515327454\n",
            "(Training)Epoch: 1 Iteration: 600 Loss: 0.672055721282959\n",
            "(Training)Epoch: 1 Iteration: 700 Loss: 0.894418478012085\n",
            "-----------------------------------------------------------\n",
            "(Testing) Epoch: 1 ACCURACY: 90.76000213623047\n",
            "-----------------------------------------------------------\n",
            "(Training)Epoch: 2 Iteration: 0 Loss: 0.5381850600242615\n",
            "(Training)Epoch: 2 Iteration: 100 Loss: 0.46924594044685364\n",
            "(Training)Epoch: 2 Iteration: 200 Loss: 0.4974094331264496\n",
            "(Training)Epoch: 2 Iteration: 300 Loss: 0.5289466977119446\n",
            "(Training)Epoch: 2 Iteration: 400 Loss: 0.552105188369751\n",
            "(Training)Epoch: 2 Iteration: 500 Loss: 0.7231741547584534\n",
            "(Training)Epoch: 2 Iteration: 600 Loss: 0.339083194732666\n",
            "(Training)Epoch: 2 Iteration: 700 Loss: 0.4385035037994385\n",
            "-----------------------------------------------------------\n",
            "(Testing) Epoch: 2 ACCURACY: 94.4800033569336\n",
            "-----------------------------------------------------------\n",
            "(Training)Epoch: 3 Iteration: 0 Loss: 0.44851818680763245\n",
            "(Training)Epoch: 3 Iteration: 100 Loss: 0.17701846361160278\n",
            "(Training)Epoch: 3 Iteration: 200 Loss: 0.2787573039531708\n",
            "(Training)Epoch: 3 Iteration: 300 Loss: 0.24612170457839966\n",
            "(Training)Epoch: 3 Iteration: 400 Loss: 0.22269199788570404\n",
            "(Training)Epoch: 3 Iteration: 500 Loss: 0.12153076380491257\n",
            "(Training)Epoch: 3 Iteration: 600 Loss: 0.2473110556602478\n",
            "(Training)Epoch: 3 Iteration: 700 Loss: 0.2318524271249771\n",
            "-----------------------------------------------------------\n",
            "(Testing) Epoch: 3 ACCURACY: 95.93000030517578\n",
            "-----------------------------------------------------------\n",
            "(Training)Epoch: 4 Iteration: 0 Loss: 0.4229185879230499\n",
            "(Training)Epoch: 4 Iteration: 100 Loss: 0.17319367825984955\n",
            "(Training)Epoch: 4 Iteration: 200 Loss: 0.219615638256073\n",
            "(Training)Epoch: 4 Iteration: 300 Loss: 0.2133047878742218\n",
            "(Training)Epoch: 4 Iteration: 400 Loss: 0.18427641689777374\n",
            "(Training)Epoch: 4 Iteration: 500 Loss: 0.2909487783908844\n",
            "(Training)Epoch: 4 Iteration: 600 Loss: 0.17455241084098816\n",
            "(Training)Epoch: 4 Iteration: 700 Loss: 0.20601415634155273\n",
            "-----------------------------------------------------------\n",
            "(Testing) Epoch: 4 ACCURACY: 96.41000366210938\n",
            "-----------------------------------------------------------\n",
            "(Training)Epoch: 5 Iteration: 0 Loss: 0.19150671362876892\n",
            "(Training)Epoch: 5 Iteration: 100 Loss: 0.3365921676158905\n",
            "(Training)Epoch: 5 Iteration: 200 Loss: 0.16350291669368744\n",
            "(Training)Epoch: 5 Iteration: 300 Loss: 0.115052230656147\n",
            "(Training)Epoch: 5 Iteration: 400 Loss: 0.29987433552742004\n",
            "(Training)Epoch: 5 Iteration: 500 Loss: 0.1385088562965393\n",
            "(Training)Epoch: 5 Iteration: 600 Loss: 0.16675050556659698\n",
            "(Training)Epoch: 5 Iteration: 700 Loss: 0.4948020577430725\n",
            "-----------------------------------------------------------\n",
            "(Testing) Epoch: 5 ACCURACY: 96.88999938964844\n",
            "-----------------------------------------------------------\n",
            "(Training)Epoch: 6 Iteration: 0 Loss: 0.4082125425338745\n",
            "(Training)Epoch: 6 Iteration: 100 Loss: 0.3271339237689972\n",
            "(Training)Epoch: 6 Iteration: 200 Loss: 0.19535429775714874\n",
            "(Training)Epoch: 6 Iteration: 300 Loss: 0.21140620112419128\n",
            "(Training)Epoch: 6 Iteration: 400 Loss: 0.11990701407194138\n",
            "(Training)Epoch: 6 Iteration: 500 Loss: 0.22454321384429932\n",
            "(Training)Epoch: 6 Iteration: 600 Loss: 0.2599216401576996\n",
            "(Training)Epoch: 6 Iteration: 700 Loss: 0.152065247297287\n",
            "-----------------------------------------------------------\n",
            "(Testing) Epoch: 6 ACCURACY: 97.2699966430664\n",
            "-----------------------------------------------------------\n",
            "(Training)Epoch: 7 Iteration: 0 Loss: 0.14421366155147552\n",
            "(Training)Epoch: 7 Iteration: 100 Loss: 0.24263963103294373\n",
            "(Training)Epoch: 7 Iteration: 200 Loss: 0.1921592652797699\n",
            "(Training)Epoch: 7 Iteration: 300 Loss: 0.1177215427160263\n",
            "(Training)Epoch: 7 Iteration: 400 Loss: 0.1349972039461136\n",
            "(Training)Epoch: 7 Iteration: 500 Loss: 0.3509349524974823\n",
            "(Training)Epoch: 7 Iteration: 600 Loss: 0.21449729800224304\n",
            "(Training)Epoch: 7 Iteration: 700 Loss: 0.19309170544147491\n",
            "-----------------------------------------------------------\n",
            "(Testing) Epoch: 7 ACCURACY: 97.66000366210938\n",
            "-----------------------------------------------------------\n",
            "(Training)Epoch: 8 Iteration: 0 Loss: 0.17517505586147308\n",
            "(Training)Epoch: 8 Iteration: 100 Loss: 0.12888368964195251\n",
            "(Training)Epoch: 8 Iteration: 200 Loss: 0.13593682646751404\n",
            "(Training)Epoch: 8 Iteration: 300 Loss: 0.1819431483745575\n",
            "(Training)Epoch: 8 Iteration: 400 Loss: 0.1625966727733612\n",
            "(Training)Epoch: 8 Iteration: 500 Loss: 0.13283690810203552\n",
            "(Training)Epoch: 8 Iteration: 600 Loss: 0.11905989050865173\n",
            "(Training)Epoch: 8 Iteration: 700 Loss: 0.11598210036754608\n",
            "-----------------------------------------------------------\n",
            "(Testing) Epoch: 8 ACCURACY: 97.79000091552734\n",
            "-----------------------------------------------------------\n",
            "(Training)Epoch: 9 Iteration: 0 Loss: 0.2302032858133316\n",
            "(Training)Epoch: 9 Iteration: 100 Loss: 0.13175256550312042\n",
            "(Training)Epoch: 9 Iteration: 200 Loss: 0.15767717361450195\n",
            "(Training)Epoch: 9 Iteration: 300 Loss: 0.10576032847166061\n",
            "(Training)Epoch: 9 Iteration: 400 Loss: 0.30646780133247375\n",
            "(Training)Epoch: 9 Iteration: 500 Loss: 0.15808698534965515\n",
            "(Training)Epoch: 9 Iteration: 600 Loss: 0.17572550475597382\n",
            "(Training)Epoch: 9 Iteration: 700 Loss: 0.0914195105433464\n",
            "-----------------------------------------------------------\n",
            "(Testing) Epoch: 9 ACCURACY: 97.98999786376953\n",
            "-----------------------------------------------------------\n",
            "(Training)Epoch: 10 Iteration: 0 Loss: 0.2064734548330307\n",
            "(Training)Epoch: 10 Iteration: 100 Loss: 0.1695980727672577\n",
            "(Training)Epoch: 10 Iteration: 200 Loss: 0.17047323286533356\n",
            "(Training)Epoch: 10 Iteration: 300 Loss: 0.2156236320734024\n",
            "(Training)Epoch: 10 Iteration: 400 Loss: 0.09048397094011307\n",
            "(Training)Epoch: 10 Iteration: 500 Loss: 0.18946869671344757\n",
            "(Training)Epoch: 10 Iteration: 600 Loss: 0.29171791672706604\n",
            "(Training)Epoch: 10 Iteration: 700 Loss: 0.39729371666908264\n",
            "-----------------------------------------------------------\n",
            "(Testing) Epoch: 10 ACCURACY: 98.05000305175781\n",
            "-----------------------------------------------------------\n"
          ]
        }
      ]
    },
    {
      "cell_type": "markdown",
      "source": [
        "PLOT LOSS AGAINST THE NUMBER OF EPOCHS"
      ],
      "metadata": {
        "id": "kRf5-Q11BPVE"
      }
    },
    {
      "cell_type": "code",
      "source": [
        "fig = plt.figure()\n",
        "plt.title('Loss against the number of epochs')\n",
        "plt.plot(train_x_axis, loss_list, color='blue')\n",
        "plt.legend(['Train Loss'])\n",
        "plt.xlabel('Iterations')\n",
        "plt.ylabel('Loss')"
      ],
      "metadata": {
        "colab": {
          "base_uri": "https://localhost:8080/",
          "height": 312
        },
        "id": "djEwUkA_AZpz",
        "outputId": "10a61d12-2be1-4829-9e1c-9a7f11068229"
      },
      "execution_count": 205,
      "outputs": [
        {
          "output_type": "execute_result",
          "data": {
            "text/plain": [
              "Text(0, 0.5, 'Loss')"
            ]
          },
          "metadata": {},
          "execution_count": 205
        },
        {
          "output_type": "display_data",
          "data": {
            "text/plain": [
              "<Figure size 432x288 with 1 Axes>"
            ],
            "image/png": "[encoded data removed]"
          },
          "metadata": {
            "needs_background": "light"
          }
        }
      ]
    },
    {
      "cell_type": "markdown",
      "metadata": {
        "id": "rWrENUfDvomg"
      },
      "source": [
        "## Question 4"
      ]
    },
    {
      "cell_type": "markdown",
      "metadata": {
        "id": "WmtFAySCvomg"
      },
      "source": [
        "### Part 1"
      ]
    },
    {
      "cell_type": "markdown",
      "metadata": {
        "id": "1Ac29uTyvomg"
      },
      "source": [
        "Suppose that you have a fully trained network, and that you wanted to find images that \"fooled\" it, i.e., images that are misclassified by your network.\n",
        "\n",
        "One simple approach would be to take an input image, and then alter it in the direction of ascent of the gradient of the loss w.r.t to the pixels of that input image. Mathematically:\n",
        "\n",
        "$\n",
        "\\begin{equation}\n",
        "x^´ = x + \\epsilon \\,\\text{sign}\\left[\\nabla_x \\mathcal{L(\\theta,x,y}) \\right]\n",
        "\\end{equation}\n",
        "$,\n",
        "\n",
        "where $x^´$ is the (perturbed) image you hope will fool the classifier, $x$ is the input image, $y$ is the label of the original image, $\\theta$ are the network parameters, $\\epsilon$ is a hyperparameter controlling the strength of the perturbation, and $\\mathcal{L}$ is the loss.\n",
        "\n",
        "Implement this in Pytorch, using the model you trained in question 3. Generate one $x'$ for all the images in the MNIST testing set, keep the $x^´$ that sucessfully fool your model, alongside their original labels and their predicted (wrong) labels, and print out the accuracy of your model in the perturbed testing set (all the $x^´$ obtained from the images in the original testing set using the equation above), for the following epsilons: $\\epsilon = 0,0.05,0.15,0.25$\n",
        "\n",
        "**Hint**: A line of code similar to \"data.requires_grad = True\" is needed somewhere in your solution"
      ]
    },
    {
      "cell_type": "code",
      "source": [
        "epsilons = [0, .05, .15, .25]"
      ],
      "metadata": {
        "id": "EfR1eEi8Rl4N"
      },
      "execution_count": 206,
      "outputs": []
    },
    {
      "cell_type": "code",
      "source": [
        "def fgsm_attack(data, epsilon, grad_data):\n",
        "    sign_data = grad_data.sign()\n",
        "    perturbed_image = data + epsilon * sign_data \n",
        "    data_mod = torch.clamp(perturbed_image, 0, 1)\n",
        "    return data_mod "
      ],
      "metadata": {
        "id": "mUmUzHgsTmiJ"
      },
      "execution_count": 207,
      "outputs": []
    },
    {
      "cell_type": "code",
      "source": [
        "def fgsm_fooled_images_attack(epsilon):\n",
        "\n",
        "    neuralNetwork.eval()\n",
        "    correct, test_loss = 0, 0\n",
        "\n",
        "    perturbed_data_list = []\n",
        "    predicted_label = []\n",
        "    original_label = []\n",
        "\n",
        "    for i, (data, target) in enumerate(MNIST_train_dataloader_2):\n",
        "\n",
        "        data.requires_grad = True\n",
        "        output = neuralNetwork(data)\n",
        "        initaiPred = output.data.max(1, keepdim=True)[1]\n",
        "    \n",
        "        loss = F.nll_loss(output, target)\n",
        "\n",
        "        neuralNetwork.zero_grad()  \n",
        "\n",
        "        loss.backward()\n",
        "\n",
        "        data_grad = data.grad.data\n",
        "\n",
        "        perturbed_data = fgsm_attack(data, epsilon, data_grad)\n",
        "        output = neuralNetwork(perturbed_data)\n",
        "\n",
        "        finalPred = output.data.max(1, keepdim=True)[1] \n",
        "        correct += finalPred.eq(target.data.view_as(finalPred)).sum()\n",
        "        for i in range(finalPred.shape[0]):\n",
        "          if finalPred[i].item() != target[i].item():\n",
        "              perturbed_data_list.append(perturbed_data[i])\n",
        "              predicted_label.append(finalPred[i].item())\n",
        "              original_label.append(target[i])\n",
        "\n",
        "    final_accuracy = correct/float(len(MNIST_train_dataloader_2.dataset))\n",
        "    print(f\"Epsilon: {epsilon} Test Accuracy = {final_accuracy*100}\")\n",
        "    \n",
        "    return final_accuracy,perturbed_data_list, predicted_label, original_label"
      ],
      "metadata": {
        "id": "LF9jn91iYYZQ"
      },
      "execution_count": 208,
      "outputs": []
    },
    {
      "cell_type": "code",
      "source": [
        "epsilons = [0,0.05,0.15,0.25]\n",
        "accuracies = []\n",
        "perturbed_master_list = []\n",
        "predicted_label_master_list = []\n",
        "original_label_master_list = []\n",
        "\n",
        "for epsilon in epsilons:\n",
        "    final_accuracy,perturbed_data_list, predicted_label, original_label = fgsm_fooled_images_attack(epsilon)\n",
        "    accuracies.append(final_accuracy)\n",
        "    perturbed_master_list.append(perturbed_data_list)\n",
        "    predicted_label_master_list.append(predicted_label)\n",
        "    original_label_master_list.append(original_label)\n",
        "    "
      ],
      "metadata": {
        "colab": {
          "base_uri": "https://localhost:8080/"
        },
        "id": "p_XfrHoKevq0",
        "outputId": "b48e5183-85b1-4753-fba9-bc1913e38898"
      },
      "execution_count": 209,
      "outputs": [
        {
          "output_type": "stream",
          "name": "stdout",
          "text": [
            "Epsilon: 0 Test Accuracy = 97.81999969482422\n",
            "Epsilon: 0.05 Test Accuracy = 93.08999633789062\n",
            "Epsilon: 0.15 Test Accuracy = 63.76000213623047\n",
            "Epsilon: 0.25 Test Accuracy = 21.940000534057617\n"
          ]
        }
      ]
    },
    {
      "cell_type": "code",
      "source": [
        "#plt.figure(figsize=(3,3))\n",
        "plt.plot(epsilons, accuracies, \"*-\")\n",
        "plt.yticks(np.arange(0, 1.1, step=0.1))\n",
        "plt.xticks(np.arange(0, .35, step=0.05))\n",
        "plt.title(\"Accuracy vs Epsilon\")\n",
        "plt.xlabel(\"Epsilon\")\n",
        "plt.ylabel(\"Accuracy\")\n",
        "plt.show()"
      ],
      "metadata": {
        "colab": {
          "base_uri": "https://localhost:8080/",
          "height": 295
        },
        "id": "3OvyWLeB3o2-",
        "outputId": "60d92d97-82df-4b22-a49c-2a1353a9edc6"
      },
      "execution_count": 210,
      "outputs": [
        {
          "output_type": "display_data",
          "data": {
            "text/plain": [
              "<Figure size 432x288 with 1 Axes>"
            ],
            "image/png": "[encoded data removed]"
          },
          "metadata": {
            "needs_background": "light"
          }
        }
      ]
    },
    {
      "cell_type": "markdown",
      "metadata": {
        "id": "Pjt8FUwUvomn"
      },
      "source": [
        "### Part 2"
      ]
    },
    {
      "cell_type": "markdown",
      "metadata": {
        "id": "UfWbVtwzvomn"
      },
      "source": [
        "Show some of the images that fooled your network in part 1 (plt.imshow will come in handy), making sure to include both what their original and perturbed labels were in the title of your plot. Does it make sense to you that these images are fooling your network? Why or why not?"
      ]
    },
    {
      "cell_type": "code",
      "source": [
        "count = 0\n",
        "plt.figure(figsize=(8,10))\n",
        "for i in range(len(epsilons)):\n",
        "    for j in range(5):\n",
        "        count += 1\n",
        "        plt.subplot(len(epsilons),5,count)\n",
        "        plt.xticks([], [])\n",
        "        plt.yticks([], [])\n",
        "        if j == 0:\n",
        "            plt.ylabel(\"Eps: {}\".format(epsilons[i]), fontsize=14)\n",
        "        img = perturbed_master_list[i][j]\n",
        "        orig = original_label_master_list[i][j]\n",
        "        pred = predicted_label_master_list[i][j]\n",
        "        plt.title(\"{} -> {}\".format(orig.item(), pred))\n",
        "      \n",
        "        plt.imshow(img.squeeze().detach().cpu().numpy(), cmap=\"viridis\")\n",
        "plt.tight_layout()\n",
        "plt.show()"
      ],
      "metadata": {
        "colab": {
          "base_uri": "https://localhost:8080/",
          "height": 662
        },
        "id": "isv25fWR9bBc",
        "outputId": "695d5a8c-5601-4814-f67a-b22d13c41823"
      },
      "execution_count": 211,
      "outputs": [
        {
          "output_type": "display_data",
          "data": {
            "text/plain": [
              "<Figure size 576x720 with 20 Axes>"
            ],
            "image/png": "[encoded data removed]"
          },
          "metadata": {}
        }
      ]
    },
    {
      "cell_type": "markdown",
      "source": [
        "\n",
        "**Some of the numbers are strongly correlated in terms of their structure and appearance (similarity) as visualized above, but, clearly output number is misclassified**"
      ],
      "metadata": {
        "id": "aNuOm0yJQfS-"
      }
    },
    {
      "cell_type": "markdown",
      "source": [
        "**As the epsilon value increases, the image becomes more difficult to identify after fgsm attack.**"
      ],
      "metadata": {
        "id": "X7I6hi4ZWRnC"
      }
    },
    {
      "cell_type": "markdown",
      "metadata": {
        "id": "yD1vimK-vomo"
      },
      "source": [
        "## Question 5 (6505 only)"
      ]
    },
    {
      "cell_type": "markdown",
      "metadata": {
        "id": "eWXyHHHhvomo"
      },
      "source": [
        "Can you think of a way to make your network more robust to these perturbed images? Does your proposal have drawbacks? Run any experiments you feel are needed to prove your claims.\n",
        "\n",
        "**Note**: You are not expected to find a perfect solution, just something that makes sense and has some evidence backing it up. You will be marked on the persuasiveness of your argument/experiments and how much sense your proposal makes, not the overall improvements in robustness you achieve (however, if your proposal worsens the problem, then that's a pretty solid hint you're going in the wrong direction)."
      ]
    },
    {
      "cell_type": "code",
      "source": [
        "def fgsm_fooled_images_attack_train(epoch, epsilon=0.25):\n",
        "    neuralNetwork.train()\n",
        "    for i, (data, target) in enumerate(MNIST_train_dataloader_2):\n",
        "        data.requires_grad = True\n",
        "        output = neuralNetwork(data)\n",
        "        loss = F.nll_loss(output, target)\n",
        "        neuralNetwork.zero_grad()\n",
        "        loss.backward()\n",
        "        data_grad = data.grad.data\n",
        "        perturbed_data = fgsm_attack(data, epsilon, data_grad)\n",
        "        optimizer.zero_grad()\n",
        "        output = neuralNetwork(perturbed_data)\n",
        "        loss = F.nll_loss(output, target)\n",
        "        loss.backward()\n",
        "        optimizer.step()\n",
        "        if i % 10 == 0:\n",
        "            print(f\"(Training)Epoch: {epoch} Iteration: {i} Loss: {loss.item()}\")"
      ],
      "metadata": {
        "id": "YQoFCQOw8RFL"
      },
      "execution_count": 212,
      "outputs": []
    },
    {
      "cell_type": "code",
      "source": [
        "for epoch in range(1, epochs+1):\n",
        "    fgsm_fooled_images_attack_train(epoch)"
      ],
      "metadata": {
        "colab": {
          "base_uri": "https://localhost:8080/"
        },
        "id": "4cxOLzUfO6Ca",
        "outputId": "16057e29-5156-4127-c42e-49f2242b65ee"
      },
      "execution_count": 213,
      "outputs": [
        {
          "output_type": "stream",
          "name": "stdout",
          "text": [
            "(Training)Epoch: 1 Iteration: 0 Loss: 1.9380748271942139\n",
            "(Training)Epoch: 1 Iteration: 10 Loss: 1.312681794166565\n",
            "(Training)Epoch: 1 Iteration: 20 Loss: 1.5345152616500854\n",
            "(Training)Epoch: 1 Iteration: 30 Loss: 1.7555649280548096\n",
            "(Training)Epoch: 1 Iteration: 40 Loss: 1.5578069686889648\n",
            "(Training)Epoch: 1 Iteration: 50 Loss: 1.3843722343444824\n",
            "(Training)Epoch: 1 Iteration: 60 Loss: 1.4547233581542969\n",
            "(Training)Epoch: 1 Iteration: 70 Loss: 1.5883184671401978\n",
            "(Training)Epoch: 1 Iteration: 80 Loss: 1.333191990852356\n",
            "(Training)Epoch: 1 Iteration: 90 Loss: 1.4354767799377441\n",
            "(Training)Epoch: 1 Iteration: 100 Loss: 1.614338755607605\n",
            "(Training)Epoch: 1 Iteration: 110 Loss: 1.323824167251587\n",
            "(Training)Epoch: 1 Iteration: 120 Loss: 1.3133496046066284\n",
            "(Training)Epoch: 1 Iteration: 130 Loss: 1.4828020334243774\n",
            "(Training)Epoch: 1 Iteration: 140 Loss: 1.5078190565109253\n",
            "(Training)Epoch: 1 Iteration: 150 Loss: 1.3091193437576294\n",
            "(Training)Epoch: 2 Iteration: 0 Loss: 1.2626330852508545\n",
            "(Training)Epoch: 2 Iteration: 10 Loss: 1.3032000064849854\n",
            "(Training)Epoch: 2 Iteration: 20 Loss: 1.0757783651351929\n",
            "(Training)Epoch: 2 Iteration: 30 Loss: 1.5041362047195435\n",
            "(Training)Epoch: 2 Iteration: 40 Loss: 1.5928757190704346\n",
            "(Training)Epoch: 2 Iteration: 50 Loss: 1.4095698595046997\n",
            "(Training)Epoch: 2 Iteration: 60 Loss: 1.1084314584732056\n",
            "(Training)Epoch: 2 Iteration: 70 Loss: 1.0735182762145996\n",
            "(Training)Epoch: 2 Iteration: 80 Loss: 1.3184000253677368\n",
            "(Training)Epoch: 2 Iteration: 90 Loss: 1.4895508289337158\n",
            "(Training)Epoch: 2 Iteration: 100 Loss: 1.3534547090530396\n",
            "(Training)Epoch: 2 Iteration: 110 Loss: 1.405024766921997\n",
            "(Training)Epoch: 2 Iteration: 120 Loss: 1.379258632659912\n",
            "(Training)Epoch: 2 Iteration: 130 Loss: 1.7159221172332764\n",
            "(Training)Epoch: 2 Iteration: 140 Loss: 1.3477509021759033\n",
            "(Training)Epoch: 2 Iteration: 150 Loss: 1.0534790754318237\n",
            "(Training)Epoch: 3 Iteration: 0 Loss: 1.5246039628982544\n",
            "(Training)Epoch: 3 Iteration: 10 Loss: 1.0557520389556885\n",
            "(Training)Epoch: 3 Iteration: 20 Loss: 1.1956787109375\n",
            "(Training)Epoch: 3 Iteration: 30 Loss: 1.3295514583587646\n",
            "(Training)Epoch: 3 Iteration: 40 Loss: 1.1319948434829712\n",
            "(Training)Epoch: 3 Iteration: 50 Loss: 1.4737402200698853\n",
            "(Training)Epoch: 3 Iteration: 60 Loss: 1.0021113157272339\n",
            "(Training)Epoch: 3 Iteration: 70 Loss: 1.3238803148269653\n",
            "(Training)Epoch: 3 Iteration: 80 Loss: 1.263116717338562\n",
            "(Training)Epoch: 3 Iteration: 90 Loss: 1.225701093673706\n",
            "(Training)Epoch: 3 Iteration: 100 Loss: 1.313901424407959\n",
            "(Training)Epoch: 3 Iteration: 110 Loss: 1.314086675643921\n",
            "(Training)Epoch: 3 Iteration: 120 Loss: 1.122040867805481\n",
            "(Training)Epoch: 3 Iteration: 130 Loss: 0.9868444800376892\n",
            "(Training)Epoch: 3 Iteration: 140 Loss: 1.492465853691101\n",
            "(Training)Epoch: 3 Iteration: 150 Loss: 1.3781483173370361\n",
            "(Training)Epoch: 4 Iteration: 0 Loss: 0.9292058348655701\n",
            "(Training)Epoch: 4 Iteration: 10 Loss: 1.1528289318084717\n",
            "(Training)Epoch: 4 Iteration: 20 Loss: 1.2643193006515503\n",
            "(Training)Epoch: 4 Iteration: 30 Loss: 1.04718017578125\n",
            "(Training)Epoch: 4 Iteration: 40 Loss: 1.1773778200149536\n",
            "(Training)Epoch: 4 Iteration: 50 Loss: 1.083595871925354\n",
            "(Training)Epoch: 4 Iteration: 60 Loss: 1.073865294456482\n",
            "(Training)Epoch: 4 Iteration: 70 Loss: 0.9431398510932922\n",
            "(Training)Epoch: 4 Iteration: 80 Loss: 1.1941931247711182\n",
            "(Training)Epoch: 4 Iteration: 90 Loss: 1.1637461185455322\n",
            "(Training)Epoch: 4 Iteration: 100 Loss: 0.9649390578269958\n",
            "(Training)Epoch: 4 Iteration: 110 Loss: 1.0116604566574097\n",
            "(Training)Epoch: 4 Iteration: 120 Loss: 1.1308271884918213\n",
            "(Training)Epoch: 4 Iteration: 130 Loss: 1.0497902631759644\n",
            "(Training)Epoch: 4 Iteration: 140 Loss: 1.0442813634872437\n",
            "(Training)Epoch: 4 Iteration: 150 Loss: 1.3336360454559326\n",
            "(Training)Epoch: 5 Iteration: 0 Loss: 1.0970531702041626\n",
            "(Training)Epoch: 5 Iteration: 10 Loss: 1.275018572807312\n",
            "(Training)Epoch: 5 Iteration: 20 Loss: 1.0321815013885498\n",
            "(Training)Epoch: 5 Iteration: 30 Loss: 1.148319959640503\n",
            "(Training)Epoch: 5 Iteration: 40 Loss: 1.1011062860488892\n",
            "(Training)Epoch: 5 Iteration: 50 Loss: 1.0035780668258667\n",
            "(Training)Epoch: 5 Iteration: 60 Loss: 1.138805627822876\n",
            "(Training)Epoch: 5 Iteration: 70 Loss: 1.0487189292907715\n",
            "(Training)Epoch: 5 Iteration: 80 Loss: 1.1663599014282227\n",
            "(Training)Epoch: 5 Iteration: 90 Loss: 1.0165084600448608\n",
            "(Training)Epoch: 5 Iteration: 100 Loss: 1.2196375131607056\n",
            "(Training)Epoch: 5 Iteration: 110 Loss: 1.0718660354614258\n",
            "(Training)Epoch: 5 Iteration: 120 Loss: 1.2277284860610962\n",
            "(Training)Epoch: 5 Iteration: 130 Loss: 1.1259832382202148\n",
            "(Training)Epoch: 5 Iteration: 140 Loss: 0.9995228052139282\n",
            "(Training)Epoch: 5 Iteration: 150 Loss: 1.2484256029129028\n",
            "(Training)Epoch: 6 Iteration: 0 Loss: 1.185200572013855\n",
            "(Training)Epoch: 6 Iteration: 10 Loss: 1.165326476097107\n",
            "(Training)Epoch: 6 Iteration: 20 Loss: 1.1772783994674683\n",
            "(Training)Epoch: 6 Iteration: 30 Loss: 1.025246262550354\n",
            "(Training)Epoch: 6 Iteration: 40 Loss: 0.9922631978988647\n",
            "(Training)Epoch: 6 Iteration: 50 Loss: 0.8770560026168823\n",
            "(Training)Epoch: 6 Iteration: 60 Loss: 1.0513298511505127\n",
            "(Training)Epoch: 6 Iteration: 70 Loss: 0.9839183688163757\n",
            "(Training)Epoch: 6 Iteration: 80 Loss: 0.9001181125640869\n",
            "(Training)Epoch: 6 Iteration: 90 Loss: 1.1953908205032349\n",
            "(Training)Epoch: 6 Iteration: 100 Loss: 1.116042137145996\n",
            "(Training)Epoch: 6 Iteration: 110 Loss: 1.0636664628982544\n",
            "(Training)Epoch: 6 Iteration: 120 Loss: 1.3782167434692383\n",
            "(Training)Epoch: 6 Iteration: 130 Loss: 1.060988187789917\n",
            "(Training)Epoch: 6 Iteration: 140 Loss: 0.9000536203384399\n",
            "(Training)Epoch: 6 Iteration: 150 Loss: 1.1430002450942993\n",
            "(Training)Epoch: 7 Iteration: 0 Loss: 0.8335663676261902\n",
            "(Training)Epoch: 7 Iteration: 10 Loss: 0.9861764311790466\n",
            "(Training)Epoch: 7 Iteration: 20 Loss: 0.7077544927597046\n",
            "(Training)Epoch: 7 Iteration: 30 Loss: 0.986484169960022\n",
            "(Training)Epoch: 7 Iteration: 40 Loss: 0.9346291422843933\n",
            "(Training)Epoch: 7 Iteration: 50 Loss: 1.014802098274231\n",
            "(Training)Epoch: 7 Iteration: 60 Loss: 1.0573989152908325\n",
            "(Training)Epoch: 7 Iteration: 70 Loss: 0.9677351713180542\n",
            "(Training)Epoch: 7 Iteration: 80 Loss: 0.6769236326217651\n",
            "(Training)Epoch: 7 Iteration: 90 Loss: 0.9840645790100098\n",
            "(Training)Epoch: 7 Iteration: 100 Loss: 1.2068469524383545\n",
            "(Training)Epoch: 7 Iteration: 110 Loss: 1.1608359813690186\n",
            "(Training)Epoch: 7 Iteration: 120 Loss: 1.0943948030471802\n",
            "(Training)Epoch: 7 Iteration: 130 Loss: 1.1851361989974976\n",
            "(Training)Epoch: 7 Iteration: 140 Loss: 0.8286598324775696\n",
            "(Training)Epoch: 7 Iteration: 150 Loss: 1.031031608581543\n",
            "(Training)Epoch: 8 Iteration: 0 Loss: 0.8481952548027039\n",
            "(Training)Epoch: 8 Iteration: 10 Loss: 0.9228966236114502\n",
            "(Training)Epoch: 8 Iteration: 20 Loss: 1.0049446821212769\n",
            "(Training)Epoch: 8 Iteration: 30 Loss: 0.9084809422492981\n",
            "(Training)Epoch: 8 Iteration: 40 Loss: 0.9936552047729492\n",
            "(Training)Epoch: 8 Iteration: 50 Loss: 1.0694010257720947\n",
            "(Training)Epoch: 8 Iteration: 60 Loss: 0.9978983998298645\n",
            "(Training)Epoch: 8 Iteration: 70 Loss: 0.7754949927330017\n",
            "(Training)Epoch: 8 Iteration: 80 Loss: 0.7910512089729309\n",
            "(Training)Epoch: 8 Iteration: 90 Loss: 0.8092156648635864\n",
            "(Training)Epoch: 8 Iteration: 100 Loss: 0.7232162356376648\n",
            "(Training)Epoch: 8 Iteration: 110 Loss: 0.6937558054924011\n",
            "(Training)Epoch: 8 Iteration: 120 Loss: 0.9652919173240662\n",
            "(Training)Epoch: 8 Iteration: 130 Loss: 0.6249942779541016\n",
            "(Training)Epoch: 8 Iteration: 140 Loss: 0.8738940954208374\n",
            "(Training)Epoch: 8 Iteration: 150 Loss: 1.2942254543304443\n",
            "(Training)Epoch: 9 Iteration: 0 Loss: 1.01090407371521\n",
            "(Training)Epoch: 9 Iteration: 10 Loss: 1.1479016542434692\n",
            "(Training)Epoch: 9 Iteration: 20 Loss: 0.9345982074737549\n",
            "(Training)Epoch: 9 Iteration: 30 Loss: 1.043535828590393\n",
            "(Training)Epoch: 9 Iteration: 40 Loss: 0.835074782371521\n",
            "(Training)Epoch: 9 Iteration: 50 Loss: 0.890621542930603\n",
            "(Training)Epoch: 9 Iteration: 60 Loss: 0.8475393056869507\n",
            "(Training)Epoch: 9 Iteration: 70 Loss: 1.0967421531677246\n",
            "(Training)Epoch: 9 Iteration: 80 Loss: 0.833372175693512\n",
            "(Training)Epoch: 9 Iteration: 90 Loss: 1.2459787130355835\n",
            "(Training)Epoch: 9 Iteration: 100 Loss: 1.166563868522644\n",
            "(Training)Epoch: 9 Iteration: 110 Loss: 1.0228042602539062\n",
            "(Training)Epoch: 9 Iteration: 120 Loss: 0.924365222454071\n",
            "(Training)Epoch: 9 Iteration: 130 Loss: 1.1175752878189087\n",
            "(Training)Epoch: 9 Iteration: 140 Loss: 1.2346746921539307\n",
            "(Training)Epoch: 9 Iteration: 150 Loss: 0.8217361569404602\n",
            "(Training)Epoch: 10 Iteration: 0 Loss: 0.828240156173706\n",
            "(Training)Epoch: 10 Iteration: 10 Loss: 0.7791492938995361\n",
            "(Training)Epoch: 10 Iteration: 20 Loss: 0.875784695148468\n",
            "(Training)Epoch: 10 Iteration: 30 Loss: 0.8754940629005432\n",
            "(Training)Epoch: 10 Iteration: 40 Loss: 0.8332483768463135\n",
            "(Training)Epoch: 10 Iteration: 50 Loss: 0.7451689839363098\n",
            "(Training)Epoch: 10 Iteration: 60 Loss: 1.0031169652938843\n",
            "(Training)Epoch: 10 Iteration: 70 Loss: 1.0367344617843628\n",
            "(Training)Epoch: 10 Iteration: 80 Loss: 0.8537822961807251\n",
            "(Training)Epoch: 10 Iteration: 90 Loss: 0.8091740608215332\n",
            "(Training)Epoch: 10 Iteration: 100 Loss: 0.8767021894454956\n",
            "(Training)Epoch: 10 Iteration: 110 Loss: 1.1352368593215942\n",
            "(Training)Epoch: 10 Iteration: 120 Loss: 0.8935442566871643\n",
            "(Training)Epoch: 10 Iteration: 130 Loss: 0.917199432849884\n",
            "(Training)Epoch: 10 Iteration: 140 Loss: 0.9361110925674438\n",
            "(Training)Epoch: 10 Iteration: 150 Loss: 0.9661256670951843\n"
          ]
        }
      ]
    },
    {
      "cell_type": "code",
      "source": [
        "def fgsm_fooled_images_attack_next(epsilon):\n",
        "\n",
        "    neuralNetwork.eval()\n",
        "    correct, test_loss = 0, 0\n",
        "  \n",
        "    perturbed_data_list = []\n",
        "    predicted_label = []\n",
        "    original_label = []\n",
        "\n",
        "    for data, target in MNIST_test_dataloader:\n",
        "\n",
        "        data.requires_grad = True\n",
        "        output = neuralNetwork(data)\n",
        "        initialPred = output.data.max(1, keepdim=True)[1]\n",
        "       \n",
        "        loss = F.nll_loss(output, target)\n",
        "\n",
        "        neuralNetwork.zero_grad()   \n",
        "\n",
        "        loss.backward()\n",
        "\n",
        "        data_grad = data.grad.data\n",
        "\n",
        "        perturbed_data = fgsm_attack(data, epsilon, data_grad)\n",
        "        output = neuralNetwork(perturbed_data)\n",
        "\n",
        "        finalPred = output.max(1, keepdim=True)[1] \n",
        "        correct += finalPred.eq(target.data.view_as(finalPred)).sum()\n",
        "\n",
        "        for i in range(finalPred.shape[0]):\n",
        "            if finalPred[i].item() != target[i].item():\n",
        "                perturbed_data_list.append(perturbed_data[i])\n",
        "                predicted_label.append(finalPred[i].item())\n",
        "                original_label.append(target[i])\n",
        "\n",
        "\n",
        "    final_accuracy = correct/float(len(MNIST_test_dataloader.dataset))\n",
        "    print(f\"Epsilon: {epsilon} Test Accuracy = {final_accuracy*100}\")\n",
        "    \n",
        "    return final_accuracy,perturbed_data_list, predicted_label, original_label"
      ],
      "metadata": {
        "id": "hfUTdq5HO98O"
      },
      "execution_count": 214,
      "outputs": []
    },
    {
      "cell_type": "code",
      "source": [
        "epsilons = [0,0.05,0.15,0.25]\n",
        "accuracies = []\n",
        "perturbed_master_list = []\n",
        "predicted_label_master_list = []\n",
        "original_label_master_list = []\n",
        "\n",
        "for epsilon in epsilons:\n",
        "    final_accuracy,perturbed_data_list, predicted_label, original_label = fgsm_fooled_images_attack_next(epsilon)\n",
        "    accuracies.append(final_accuracy)\n",
        "    perturbed_master_list.append(perturbed_data_list)\n",
        "    predicted_label_master_list.append(predicted_label)\n",
        "    original_label_master_list.append(original_label)"
      ],
      "metadata": {
        "colab": {
          "base_uri": "https://localhost:8080/"
        },
        "id": "dwgcolodPNoN",
        "outputId": "60de26f0-a6cd-444e-d6f0-8a04c0920bca"
      },
      "execution_count": 215,
      "outputs": [
        {
          "output_type": "stream",
          "name": "stdout",
          "text": [
            "Epsilon: 0 Test Accuracy = 96.83999633789062\n",
            "Epsilon: 0.05 Test Accuracy = 94.23999786376953\n",
            "Epsilon: 0.15 Test Accuracy = 84.55999755859375\n",
            "Epsilon: 0.25 Test Accuracy = 67.04000091552734\n"
          ]
        }
      ]
    },
    {
      "cell_type": "markdown",
      "source": [
        "**I ran the above code in Step 5 to make the network more robust to these perturbed images. I trained the network first on the spiltted training dataset of 10K images. Therefore, now the training is done on both the original and perturbed images uisng fast gradient method**"
      ],
      "metadata": {
        "id": "81clmmjdThvr"
      }
    },
    {
      "cell_type": "markdown",
      "source": [
        "**Then, the fgm attack is again performed on the trained perturbed images.**"
      ],
      "metadata": {
        "id": "pp1rXGkpUVFT"
      }
    },
    {
      "cell_type": "markdown",
      "source": [
        "**After performing fgsm attack attack and adding epsilons to the run, the accuracy did drop drasticalling after increasing the epsilon value. It somewhat improved.**"
      ],
      "metadata": {
        "id": "VYRLcV6vUh-8"
      }
    },
    {
      "cell_type": "markdown",
      "source": [
        "**One drawback of this way is that if the input images resides in the blind-spot, model will not behave properly.**"
      ],
      "metadata": {
        "id": "dK_mEvEeVLRm"
      }
    }
  ],
  "metadata": {
    "kernelspec": {
      "display_name": "Python 3 (ipykernel)",
      "language": "python",
      "name": "python3"
    },
    "language_info": {
      "codemirror_mode": {
        "name": "ipython",
        "version": 3
      },
      "file_extension": ".py",
      "mimetype": "text/x-python",
      "name": "python",
      "nbconvert_exporter": "python",
      "pygments_lexer": "ipython3",
      "version": "3.9.7"
    },
    "colab": {
      "name": "Assignment1_Step2_CSCI6505_TanviPruthi_B00875949.ipynb",
      "provenance": [],
      "collapsed_sections": []
    }
  },
  "nbformat": 4,
  "nbformat_minor": 0
}